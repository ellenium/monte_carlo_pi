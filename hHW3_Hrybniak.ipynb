{
 "cells": [
  {
   "cell_type": "code",
   "execution_count": 49,
   "metadata": {},
   "outputs": [],
   "source": [
    "\n",
    "import numpy as np\n",
    "import random\n",
    "import math as m"
   ]
  },
  {
   "cell_type": "code",
   "execution_count": 50,
   "metadata": {},
   "outputs": [],
   "source": [
    "class Approximator:\n",
    "    def __init__(self, epsilon):\n",
    "        self.eps = epsilon\n",
    "        self.N_in = 0 # You need to replace the value here\n",
    "        self.N = 1000 # You need to replace the value here\n",
    "        if not type(self.eps) is float: raise TypeError(\"NaN\")\n",
    "        if (epsilon <= 0): return \"less or equal to 0\"\n",
    "    \n",
    "    def approximate(self):\n",
    "        pi_previous = 10.0\n",
    "        pi_current = 10.0\n",
    "        \n",
    "        while True:\n",
    "            x = np.random.rand()\n",
    "            y = np.random.rand()\n",
    "            self.N += 1\n",
    "                \n",
    "            if m.sqrt((x - 0.5)**2 + (y - 0.5)**2) <= 0.5:\n",
    "                self.N_in += 1\n",
    "                pi_previous = pi_current\n",
    "                pi_current = (self.N_in / self.N) * 4\n",
    "                if self.N_in % 100 == 0:\n",
    "                    if abs(pi_previous - pi_current) > self.eps:\n",
    "                        continue\n",
    "                    else:\n",
    "                        break\n",
    "\n",
    "        return pi_current"
   ]
  },
  {
   "cell_type": "code",
   "execution_count": 51,
   "metadata": {},
   "outputs": [
    {
     "name": "stdout",
     "output_type": "stream",
     "text": [
      "3.0934308660064116\n"
     ]
    }
   ],
   "source": [
    "a = Approximator(epsilon=0.00001)\n",
    "pi_estimate = a.approximate()\n",
    "print(pi_estimate)"
   ]
  },
  {
   "cell_type": "code",
   "execution_count": null,
   "metadata": {},
   "outputs": [],
   "source": []
  }
 ],
 "metadata": {
  "kernelspec": {
   "display_name": "Python 3",
   "language": "python",
   "name": "python3"
  },
  "language_info": {
   "codemirror_mode": {
    "name": "ipython",
    "version": 3
   },
   "file_extension": ".py",
   "mimetype": "text/x-python",
   "name": "python",
   "nbconvert_exporter": "python",
   "pygments_lexer": "ipython3",
   "version": "3.8.0"
  }
 },
 "nbformat": 4,
 "nbformat_minor": 4
}
